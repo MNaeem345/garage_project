{
 "cells": [
  {
   "cell_type": "code",
   "execution_count": null,
   "metadata": {},
   "outputs": [],
   "source": [
    "# Your assignment for today is to create a parking garage class to get more familiar with Object Oriented Programming(OOP). \n",
    "\n",
    "\n",
    "# Your parking garage class should have the following methods:\n",
    "# - takeTicket\n",
    "# - This should decrease the amount of tickets available by 1\n",
    "# - This should decrease the amount of parkingSpaces available by 1\n",
    "# - payForParking\n",
    "# - Display an input that waits for an amount from the user and store it in a variable\n",
    "# - If the payment variable is not empty then (meaning the ticket has been paid) -> display a message to the user that their ticket has been paid and they have 15mins to leave\n",
    "# - This should update the \"currentTicket\" dictionary key \"paid\" to True\n",
    "# -leaveGarage\n",
    "# - If the ticket has been paid, display a message of \"Thank You, have a nice day\"\n",
    "# - If the ticket has not been paid, display an input prompt for payment\n",
    "# - Once paid, display message \"Thank you, have a nice day!\"\n",
    "# - Update parkingSpaces list to increase by 1 (meaning add to the parkingSpaces list)\n",
    "# - Update tickets list to increase by 1 (meaning add to the tickets list)\n",
    "\n",
    "# You will need a few attributes as well:\n",
    "# - tickets -> list\n",
    "# - parkingSpaces -> list\n",
    "# - currentTicket -> dictionary\n"
   ]
  },
  {
   "cell_type": "code",
   "execution_count": 33,
   "metadata": {},
   "outputs": [
    {
     "name": "stdout",
     "output_type": "stream",
     "text": [
      "{10: 'unpaid'}\n",
      "Your ticket number is 10 and your parking number is 10\n",
      "Your ticket has been paid for!\n",
      "{10: 'paid'}\n",
      "{10: 'paid', 9: 'unpaid'}\n",
      "Your ticket number is 9 and your parking number is 9\n",
      "Your ticket has been paid for!\n",
      "{10: 'paid', 9: 'paid'}\n",
      "{10: 'paid', 9: 'paid', 8: 'unpaid'}\n",
      "Your ticket number is 8 and your parking number is 8\n",
      "Thank you for parking with us!!\n",
      "{10: 'paid', 9: 'paid'}\n",
      "Thank you for parking with us!!\n",
      "{9: 'paid'}\n",
      "Thank you for parking with us!!\n",
      "{}\n"
     ]
    },
    {
     "ename": "KeyboardInterrupt",
     "evalue": "Interrupted by user",
     "output_type": "error",
     "traceback": [
      "\u001b[1;31m---------------------------------------------------------------------------\u001b[0m",
      "\u001b[1;31mKeyboardInterrupt\u001b[0m                         Traceback (most recent call last)",
      "\u001b[1;32mc:\\Users\\Samin\\Documents\\coding temple folder\\week 2\\week 2 project 1\\garage.ipynb Cell 2'\u001b[0m in \u001b[0;36m<module>\u001b[1;34m\u001b[0m\n\u001b[0;32m     <a href='vscode-notebook-cell:/c%3A/Users/Samin/Documents/coding%20temple%20folder/week%202/week%202%20project%201/garage.ipynb#ch0000001?line=50'>51</a>\u001b[0m                 \u001b[39mprint\u001b[39m(\u001b[39m'\u001b[39m\u001b[39mThank you for coming!\u001b[39m\u001b[39m'\u001b[39m)\n\u001b[0;32m     <a href='vscode-notebook-cell:/c%3A/Users/Samin/Documents/coding%20temple%20folder/week%202/week%202%20project%201/garage.ipynb#ch0000001?line=51'>52</a>\u001b[0m             \u001b[39mbreak\u001b[39;00m\n\u001b[1;32m---> <a href='vscode-notebook-cell:/c%3A/Users/Samin/Documents/coding%20temple%20folder/week%202/week%202%20project%201/garage.ipynb#ch0000001?line=55'>56</a>\u001b[0m run()\n",
      "\u001b[1;32mc:\\Users\\Samin\\Documents\\coding temple folder\\week 2\\week 2 project 1\\garage.ipynb Cell 2'\u001b[0m in \u001b[0;36mrun\u001b[1;34m()\u001b[0m\n\u001b[0;32m     <a href='vscode-notebook-cell:/c%3A/Users/Samin/Documents/coding%20temple%20folder/week%202/week%202%20project%201/garage.ipynb#ch0000001?line=41'>42</a>\u001b[0m         gar_age\u001b[39m.\u001b[39mpayForParking()\n\u001b[0;32m     <a href='vscode-notebook-cell:/c%3A/Users/Samin/Documents/coding%20temple%20folder/week%202/week%202%20project%201/garage.ipynb#ch0000001?line=43'>44</a>\u001b[0m \u001b[39melif\u001b[39;00m ask\u001b[39m.\u001b[39mlower() \u001b[39m==\u001b[39m \u001b[39m\"\u001b[39m\u001b[39mleave\u001b[39m\u001b[39m\"\u001b[39m:\n\u001b[1;32m---> <a href='vscode-notebook-cell:/c%3A/Users/Samin/Documents/coding%20temple%20folder/week%202/week%202%20project%201/garage.ipynb#ch0000001?line=44'>45</a>\u001b[0m     gar_age\u001b[39m.\u001b[39;49mleaveGarage()\n\u001b[0;32m     <a href='vscode-notebook-cell:/c%3A/Users/Samin/Documents/coding%20temple%20folder/week%202/week%202%20project%201/garage.ipynb#ch0000001?line=45'>46</a>\u001b[0m \u001b[39melif\u001b[39;00m ask\u001b[39m.\u001b[39mlower() \u001b[39m==\u001b[39m \u001b[39m\"\u001b[39m\u001b[39mpay\u001b[39m\u001b[39m\"\u001b[39m:\n\u001b[0;32m     <a href='vscode-notebook-cell:/c%3A/Users/Samin/Documents/coding%20temple%20folder/week%202/week%202%20project%201/garage.ipynb#ch0000001?line=46'>47</a>\u001b[0m     gar_age\u001b[39m.\u001b[39mpayForParking()   \n",
      "\u001b[1;32mc:\\Users\\Samin\\Documents\\coding temple folder\\week 2\\week 2 project 1\\garage.ipynb Cell 2'\u001b[0m in \u001b[0;36mGarage.leaveGarage\u001b[1;34m(self)\u001b[0m\n\u001b[0;32m     <a href='vscode-notebook-cell:/c%3A/Users/Samin/Documents/coding%20temple%20folder/week%202/week%202%20project%201/garage.ipynb#ch0000001?line=23'>24</a>\u001b[0m \u001b[39mdef\u001b[39;00m \u001b[39mleaveGarage\u001b[39m(\u001b[39mself\u001b[39m):\n\u001b[1;32m---> <a href='vscode-notebook-cell:/c%3A/Users/Samin/Documents/coding%20temple%20folder/week%202/week%202%20project%201/garage.ipynb#ch0000001?line=24'>25</a>\u001b[0m     ask2 \u001b[39m=\u001b[39m \u001b[39mint\u001b[39m(\u001b[39minput\u001b[39;49m(\u001b[39m\"\u001b[39;49m\u001b[39mWhat is your ticket number?\u001b[39;49m\u001b[39m\"\u001b[39;49m))\n\u001b[0;32m     <a href='vscode-notebook-cell:/c%3A/Users/Samin/Documents/coding%20temple%20folder/week%202/week%202%20project%201/garage.ipynb#ch0000001?line=25'>26</a>\u001b[0m     \u001b[39mdel\u001b[39;00m \u001b[39mself\u001b[39m\u001b[39m.\u001b[39mticketDic[ask2]\n\u001b[0;32m     <a href='vscode-notebook-cell:/c%3A/Users/Samin/Documents/coding%20temple%20folder/week%202/week%202%20project%201/garage.ipynb#ch0000001?line=26'>27</a>\u001b[0m     \u001b[39mself\u001b[39m\u001b[39m.\u001b[39mtickets\u001b[39m.\u001b[39mappend(ask2)\n",
      "File \u001b[1;32mC:\\Python310\\lib\\site-packages\\ipykernel\\kernelbase.py:1044\u001b[0m, in \u001b[0;36mKernel.raw_input\u001b[1;34m(self, prompt)\u001b[0m\n\u001b[0;32m   <a href='file:///c%3A/Python310/lib/site-packages/ipykernel/kernelbase.py?line=1039'>1040</a>\u001b[0m \u001b[39mif\u001b[39;00m \u001b[39mnot\u001b[39;00m \u001b[39mself\u001b[39m\u001b[39m.\u001b[39m_allow_stdin:\n\u001b[0;32m   <a href='file:///c%3A/Python310/lib/site-packages/ipykernel/kernelbase.py?line=1040'>1041</a>\u001b[0m     \u001b[39mraise\u001b[39;00m StdinNotImplementedError(\n\u001b[0;32m   <a href='file:///c%3A/Python310/lib/site-packages/ipykernel/kernelbase.py?line=1041'>1042</a>\u001b[0m         \u001b[39m\"\u001b[39m\u001b[39mraw_input was called, but this frontend does not support input requests.\u001b[39m\u001b[39m\"\u001b[39m\n\u001b[0;32m   <a href='file:///c%3A/Python310/lib/site-packages/ipykernel/kernelbase.py?line=1042'>1043</a>\u001b[0m     )\n\u001b[1;32m-> <a href='file:///c%3A/Python310/lib/site-packages/ipykernel/kernelbase.py?line=1043'>1044</a>\u001b[0m \u001b[39mreturn\u001b[39;00m \u001b[39mself\u001b[39;49m\u001b[39m.\u001b[39;49m_input_request(\n\u001b[0;32m   <a href='file:///c%3A/Python310/lib/site-packages/ipykernel/kernelbase.py?line=1044'>1045</a>\u001b[0m     \u001b[39mstr\u001b[39;49m(prompt),\n\u001b[0;32m   <a href='file:///c%3A/Python310/lib/site-packages/ipykernel/kernelbase.py?line=1045'>1046</a>\u001b[0m     \u001b[39mself\u001b[39;49m\u001b[39m.\u001b[39;49m_parent_ident[\u001b[39m\"\u001b[39;49m\u001b[39mshell\u001b[39;49m\u001b[39m\"\u001b[39;49m],\n\u001b[0;32m   <a href='file:///c%3A/Python310/lib/site-packages/ipykernel/kernelbase.py?line=1046'>1047</a>\u001b[0m     \u001b[39mself\u001b[39;49m\u001b[39m.\u001b[39;49mget_parent(\u001b[39m\"\u001b[39;49m\u001b[39mshell\u001b[39;49m\u001b[39m\"\u001b[39;49m),\n\u001b[0;32m   <a href='file:///c%3A/Python310/lib/site-packages/ipykernel/kernelbase.py?line=1047'>1048</a>\u001b[0m     password\u001b[39m=\u001b[39;49m\u001b[39mFalse\u001b[39;49;00m,\n\u001b[0;32m   <a href='file:///c%3A/Python310/lib/site-packages/ipykernel/kernelbase.py?line=1048'>1049</a>\u001b[0m )\n",
      "File \u001b[1;32mC:\\Python310\\lib\\site-packages\\ipykernel\\kernelbase.py:1089\u001b[0m, in \u001b[0;36mKernel._input_request\u001b[1;34m(self, prompt, ident, parent, password)\u001b[0m\n\u001b[0;32m   <a href='file:///c%3A/Python310/lib/site-packages/ipykernel/kernelbase.py?line=1085'>1086</a>\u001b[0m             \u001b[39mbreak\u001b[39;00m\n\u001b[0;32m   <a href='file:///c%3A/Python310/lib/site-packages/ipykernel/kernelbase.py?line=1086'>1087</a>\u001b[0m \u001b[39mexcept\u001b[39;00m \u001b[39mKeyboardInterrupt\u001b[39;00m:\n\u001b[0;32m   <a href='file:///c%3A/Python310/lib/site-packages/ipykernel/kernelbase.py?line=1087'>1088</a>\u001b[0m     \u001b[39m# re-raise KeyboardInterrupt, to truncate traceback\u001b[39;00m\n\u001b[1;32m-> <a href='file:///c%3A/Python310/lib/site-packages/ipykernel/kernelbase.py?line=1088'>1089</a>\u001b[0m     \u001b[39mraise\u001b[39;00m \u001b[39mKeyboardInterrupt\u001b[39;00m(\u001b[39m\"\u001b[39m\u001b[39mInterrupted by user\u001b[39m\u001b[39m\"\u001b[39m) \u001b[39mfrom\u001b[39;00m \u001b[39mNone\u001b[39m\n\u001b[0;32m   <a href='file:///c%3A/Python310/lib/site-packages/ipykernel/kernelbase.py?line=1089'>1090</a>\u001b[0m \u001b[39mexcept\u001b[39;00m \u001b[39mException\u001b[39;00m:\n\u001b[0;32m   <a href='file:///c%3A/Python310/lib/site-packages/ipykernel/kernelbase.py?line=1090'>1091</a>\u001b[0m     \u001b[39mself\u001b[39m\u001b[39m.\u001b[39mlog\u001b[39m.\u001b[39mwarning(\u001b[39m\"\u001b[39m\u001b[39mInvalid Message:\u001b[39m\u001b[39m\"\u001b[39m, exc_info\u001b[39m=\u001b[39m\u001b[39mTrue\u001b[39;00m)\n",
      "\u001b[1;31mKeyboardInterrupt\u001b[0m: Interrupted by user"
     ]
    }
   ],
   "source": [
    "class Garage():\n",
    "    def __init__(self, tickets, parkingSpaces, currentTicket):\n",
    "        self.tickets = tickets\n",
    "        self.parkingSpaces = parkingSpaces\n",
    "        self.currentTicket = currentTicket\n",
    "        self.ticketDic = {}\n",
    "        self.parkingDic = {}\n",
    "    def takeTicket(self):\n",
    "        pop_tickets = self.tickets.pop()\n",
    "        pop_parking = self.parkingSpaces.pop()\n",
    "        self.ticketDic[pop_tickets] = \"unpaid\"\n",
    "        self.parkingDic[pop_parking] = \"unpaid\"\n",
    "        print(self.ticketDic)\n",
    "        \n",
    "\n",
    "        print(f'Your ticket number is {pop_tickets} and your parking number is {pop_parking}')\n",
    "    def payForParking(self):\n",
    "        ask = int(input(\"What is your ticket number?\"))\n",
    "        self.ticketDic[ask] = 'paid'\n",
    "        self.parkingDic[ask] = 'paid'\n",
    "        print('Your ticket has been paid for!')\n",
    "        print(self.ticketDic)\n",
    "        \n",
    "    def leaveGarage(self):\n",
    "        ask2 = int(input(\"What is your ticket number?\"))\n",
    "        del self.ticketDic[ask2]\n",
    "        self.tickets.append(ask2)\n",
    "        print(\"Thank you for parking with us!!\")\n",
    "        \n",
    "        print(self.ticketDic)\n",
    "\n",
    "\n",
    "gar_age = Garage([1,2,3,4,5,6,7,8,9,10], [1,2,3,4,5,6,7,8,9,10], {})\n",
    "    \n",
    "def run():\n",
    "    while True:\n",
    "        ask = input(\"Would you like a parking today? yes or quit or 'leave' or 'pay\")\n",
    "        if ask.lower() == \"yes\":\n",
    "            gar_age.takeTicket()\n",
    "            ask3 = input(\"Would you like to pay? yes or no\")\n",
    "            if ask3.lower() == \"yes\":\n",
    "                gar_age.payForParking()\n",
    "\n",
    "        elif ask.lower() == \"leave\":\n",
    "            gar_age.leaveGarage()\n",
    "        elif ask.lower() == \"pay\":\n",
    "            gar_age.payForParking()   \n",
    "            \n",
    "        else:\n",
    "            if ask.lower()== 'quit':\n",
    "                print('Thank you for coming!')\n",
    "            break\n",
    "\n",
    "        \n",
    "\n",
    "run()\n",
    "        "
   ]
  }
 ],
 "metadata": {
  "interpreter": {
   "hash": "2be5faf79681da6f2a61fdfdd5405d65d042280f7fba6178067603e3a2925119"
  },
  "kernelspec": {
   "display_name": "Python 3.10.2 64-bit",
   "language": "python",
   "name": "python3"
  },
  "language_info": {
   "codemirror_mode": {
    "name": "ipython",
    "version": 3
   },
   "file_extension": ".py",
   "mimetype": "text/x-python",
   "name": "python",
   "nbconvert_exporter": "python",
   "pygments_lexer": "ipython3",
   "version": "3.10.2"
  },
  "orig_nbformat": 4
 },
 "nbformat": 4,
 "nbformat_minor": 2
}
